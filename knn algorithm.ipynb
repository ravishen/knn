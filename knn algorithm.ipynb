{
 "cells": [
  {
   "cell_type": "code",
   "execution_count": 63,
   "metadata": {},
   "outputs": [],
   "source": [
    "import numpy as np\n",
    "import pandas as pd\n",
    "import matplotlib.pyplot as plt\n",
    "%matplotlib inline"
   ]
  },
  {
   "cell_type": "code",
   "execution_count": 64,
   "metadata": {},
   "outputs": [],
   "source": [
    "df = pd.read_csv('Iris.csv')"
   ]
  },
  {
   "cell_type": "code",
   "execution_count": 65,
   "metadata": {},
   "outputs": [
    {
     "name": "stdout",
     "output_type": "stream",
     "text": [
      "   Id  SepalLengthCm  SepalWidthCm  PetalLengthCm  PetalWidthCm      Species\n",
      "0   1            5.1           3.5            1.4           0.2  Iris-setosa\n",
      "1   2            4.9           3.0            1.4           0.2  Iris-setosa\n",
      "2   3            4.7           3.2            1.3           0.2  Iris-setosa\n",
      "3   4            4.6           3.1            1.5           0.2  Iris-setosa\n",
      "4   5            5.0           3.6            1.4           0.2  Iris-setosa\n"
     ]
    }
   ],
   "source": [
    "print (df.head(5))"
   ]
  },
  {
   "cell_type": "code",
   "execution_count": 79,
   "metadata": {},
   "outputs": [
    {
     "name": "stdout",
     "output_type": "stream",
     "text": [
      "<class 'pandas.core.frame.DataFrame'>\n",
      "RangeIndex: 150 entries, 0 to 149\n",
      "Data columns (total 6 columns):\n",
      "Id               150 non-null int64\n",
      "SepalLengthCm    150 non-null float64\n",
      "SepalWidthCm     150 non-null float64\n",
      "PetalLengthCm    150 non-null float64\n",
      "PetalWidthCm     150 non-null float64\n",
      "Species          150 non-null object\n",
      "dtypes: float64(4), int64(1), object(1)\n",
      "memory usage: 7.1+ KB\n"
     ]
    },
    {
     "data": {
      "text/plain": [
       "Index(['Id', 'SepalLengthCm', 'SepalWidthCm', 'PetalLengthCm', 'PetalWidthCm',\n",
       "       'Species'],\n",
       "      dtype='object')"
      ]
     },
     "execution_count": 79,
     "metadata": {},
     "output_type": "execute_result"
    }
   ],
   "source": [
    "df.info()\n",
    "df.columns"
   ]
  },
  {
   "cell_type": "code",
   "execution_count": 67,
   "metadata": {},
   "outputs": [],
   "source": [
    "def euclidian_distance(x,y):  \n",
    "    dist = 0.0\n",
    "    for i in range(1,(len(x)-1)):\n",
    "        dist += abs(((float(y.iloc[i])**2) -(float(x.iloc[i])**2))**0.5)\n",
    "    return dist"
   ]
  },
  {
   "cell_type": "code",
   "execution_count": 86,
   "metadata": {},
   "outputs": [],
   "source": [
    "def knn(x):\n",
    "    instance_x = df.loc[df['Id'] == x]\n",
    "    instance_y = df.loc[df['Id'] != x]\n",
    "    values = dict()\n",
    "    for i in range(len(instance_y)):\n",
    "           values.update({str(instance_y.iloc[i]['Id']):euclidian_distance(instance_y.iloc[i],instance_x.iloc[0])})\n",
    "    values= pd.DataFrame(list(values.items()), columns=['Id', 'distance_from_x'])\n",
    "    values.reset_index()\n",
    "    print(values)\n",
    "    return values"
   ]
  },
  {
   "cell_type": "code",
   "execution_count": 87,
   "metadata": {},
   "outputs": [
    {
     "name": "stdout",
     "output_type": "stream",
     "text": [
      "<class 'pandas.core.series.Series'>\n"
     ]
    }
   ],
   "source": [
    "euclidian_distance(df.iloc[0],df.iloc[1])\n",
    "print(type(df.iloc[0]))"
   ]
  },
  {
   "cell_type": "code",
   "execution_count": 88,
   "metadata": {},
   "outputs": [
    {
     "name": "stdout",
     "output_type": "stream",
     "text": [
      "      Id  distance_from_x\n",
      "0      1        12.084821\n",
      "1      2        11.984840\n",
      "2      3        11.089762\n",
      "3      4        11.909940\n",
      "4      5        12.420509\n",
      "5      6        12.406982\n",
      "6      7        12.279401\n",
      "7      8        11.887744\n",
      "8      9        12.669325\n",
      "9     10        11.643361\n",
      "10    11        12.151481\n",
      "11    12        12.048925\n",
      "12    13        12.091719\n",
      "13    14        12.603027\n",
      "14    15        12.249051\n",
      "15    16        12.879036\n",
      "16    17        12.541838\n",
      "17    18        12.066660\n",
      "18    19        11.861900\n",
      "19    20        12.665870\n",
      "20    21        11.370545\n",
      "21    22        12.448059\n",
      "22    23        12.903630\n",
      "23    24        11.290465\n",
      "24    25        11.928486\n",
      "25    26        11.817449\n",
      "26    27        11.808809\n",
      "27    28        11.943747\n",
      "28    29        11.707350\n",
      "29    30        10.992402\n",
      "..   ...              ...\n",
      "119  121         6.228714\n",
      "120  122         8.563120\n",
      "121  123        10.960217\n",
      "122  124         7.285797\n",
      "123  125         7.623690\n",
      "124  126         6.546212\n",
      "125  127         6.904859\n",
      "126  128         7.064221\n",
      "127  129         8.994598\n",
      "128  130         6.971909\n",
      "129  131         9.122161\n",
      "130  132        11.483604\n",
      "131  133         9.126406\n",
      "132  134         7.118838\n",
      "133  135         8.343800\n",
      "134  136        10.034629\n",
      "135  137         9.194168\n",
      "136  138         7.617157\n",
      "137  139         6.825154\n",
      "138  140         6.196903\n",
      "139  141         7.815065\n",
      "140  142         5.777436\n",
      "141  143         8.901162\n",
      "142  144         7.052664\n",
      "143  145         8.129674\n",
      "144  146         7.190555\n",
      "145  147         8.039123\n",
      "146  148         7.364774\n",
      "147  149         8.882304\n",
      "148  150         7.991784\n",
      "\n",
      "[149 rows x 2 columns]\n",
      "      Id  distance_from_x\n",
      "0      1        12.084821\n",
      "1      2        11.984840\n",
      "2      3        11.089762\n",
      "3      4        11.909940\n",
      "4      5        12.420509\n",
      "5      6        12.406982\n",
      "6      7        12.279401\n",
      "7      8        11.887744\n",
      "8      9        12.669325\n",
      "9     10        11.643361\n",
      "10    11        12.151481\n",
      "11    12        12.048925\n",
      "12    13        12.091719\n",
      "13    14        12.603027\n",
      "14    15        12.249051\n",
      "15    16        12.879036\n",
      "16    17        12.541838\n",
      "17    18        12.066660\n",
      "18    19        11.861900\n",
      "19    20        12.665870\n",
      "20    21        11.370545\n",
      "21    22        12.448059\n",
      "22    23        12.903630\n",
      "23    24        11.290465\n",
      "24    25        11.928486\n",
      "25    26        11.817449\n",
      "26    27        11.808809\n",
      "27    28        11.943747\n",
      "28    29        11.707350\n",
      "29    30        10.992402\n",
      "..   ...              ...\n",
      "119  121         6.228714\n",
      "120  122         8.563120\n",
      "121  123        10.960217\n",
      "122  124         7.285797\n",
      "123  125         7.623690\n",
      "124  126         6.546212\n",
      "125  127         6.904859\n",
      "126  128         7.064221\n",
      "127  129         8.994598\n",
      "128  130         6.971909\n",
      "129  131         9.122161\n",
      "130  132        11.483604\n",
      "131  133         9.126406\n",
      "132  134         7.118838\n",
      "133  135         8.343800\n",
      "134  136        10.034629\n",
      "135  137         9.194168\n",
      "136  138         7.617157\n",
      "137  139         6.825154\n",
      "138  140         6.196903\n",
      "139  141         7.815065\n",
      "140  142         5.777436\n",
      "141  143         8.901162\n",
      "142  144         7.052664\n",
      "143  145         8.129674\n",
      "144  146         7.190555\n",
      "145  147         8.039123\n",
      "146  148         7.364774\n",
      "147  149         8.882304\n",
      "148  150         7.991784\n",
      "\n",
      "[149 rows x 2 columns]\n"
     ]
    }
   ],
   "source": [
    "euclidian_distances_form_instance_x = knn(51)\n",
    "print (euclidian_distances_form_instance_x)"
   ]
  },
  {
   "cell_type": "code",
   "execution_count": null,
   "metadata": {},
   "outputs": [],
   "source": []
  },
  {
   "cell_type": "code",
   "execution_count": 89,
   "metadata": {},
   "outputs": [
    {
     "data": {
      "text/html": [
       "<div>\n",
       "<style scoped>\n",
       "    .dataframe tbody tr th:only-of-type {\n",
       "        vertical-align: middle;\n",
       "    }\n",
       "\n",
       "    .dataframe tbody tr th {\n",
       "        vertical-align: top;\n",
       "    }\n",
       "\n",
       "    .dataframe thead th {\n",
       "        text-align: right;\n",
       "    }\n",
       "</style>\n",
       "<table border=\"1\" class=\"dataframe\">\n",
       "  <thead>\n",
       "    <tr style=\"text-align: right;\">\n",
       "      <th></th>\n",
       "      <th>Id</th>\n",
       "      <th>distance_from_x</th>\n",
       "    </tr>\n",
       "  </thead>\n",
       "  <tbody>\n",
       "    <tr>\n",
       "      <th>0</th>\n",
       "      <td>87</td>\n",
       "      <td>3.359555</td>\n",
       "    </tr>\n",
       "    <tr>\n",
       "      <th>1</th>\n",
       "      <td>53</td>\n",
       "      <td>3.896865</td>\n",
       "    </tr>\n",
       "    <tr>\n",
       "      <th>2</th>\n",
       "      <td>77</td>\n",
       "      <td>4.185198</td>\n",
       "    </tr>\n",
       "  </tbody>\n",
       "</table>\n",
       "</div>"
      ],
      "text/plain": [
       "   Id  distance_from_x\n",
       "0  87         3.359555\n",
       "1  53         3.896865\n",
       "2  77         4.185198"
      ]
     },
     "execution_count": 89,
     "metadata": {},
     "output_type": "execute_result"
    }
   ],
   "source": [
    "n = 3\n",
    "np_array = (np.array(euclidian_distances_form_instance_x['distance_from_x']))\n",
    "np_array.sort()\n",
    "\n",
    "n_neighbours = np_array[:n]\n",
    "\n",
    "df2 = pd.DataFrame()\n",
    "for i in n_neighbours:\n",
    "    s = euclidian_distances_form_instance_x.loc[euclidian_distances_form_instance_x['distance_from_x'] == i]\n",
    "    df2 = df2.append(s,ignore_index=True)\n",
    "df2"
   ]
  },
  {
   "cell_type": "code",
   "execution_count": 90,
   "metadata": {},
   "outputs": [
    {
     "data": {
      "text/html": [
       "<div>\n",
       "<style scoped>\n",
       "    .dataframe tbody tr th:only-of-type {\n",
       "        vertical-align: middle;\n",
       "    }\n",
       "\n",
       "    .dataframe tbody tr th {\n",
       "        vertical-align: top;\n",
       "    }\n",
       "\n",
       "    .dataframe thead th {\n",
       "        text-align: right;\n",
       "    }\n",
       "</style>\n",
       "<table border=\"1\" class=\"dataframe\">\n",
       "  <thead>\n",
       "    <tr style=\"text-align: right;\">\n",
       "      <th></th>\n",
       "      <th>Id</th>\n",
       "      <th>distance_from_x</th>\n",
       "    </tr>\n",
       "  </thead>\n",
       "  <tbody>\n",
       "    <tr>\n",
       "      <th>0</th>\n",
       "      <td>87</td>\n",
       "      <td>3.359555</td>\n",
       "    </tr>\n",
       "    <tr>\n",
       "      <th>1</th>\n",
       "      <td>53</td>\n",
       "      <td>3.896865</td>\n",
       "    </tr>\n",
       "    <tr>\n",
       "      <th>2</th>\n",
       "      <td>77</td>\n",
       "      <td>4.185198</td>\n",
       "    </tr>\n",
       "  </tbody>\n",
       "</table>\n",
       "</div>"
      ],
      "text/plain": [
       "   Id  distance_from_x\n",
       "0  87         3.359555\n",
       "1  53         3.896865\n",
       "2  77         4.185198"
      ]
     },
     "execution_count": 90,
     "metadata": {},
     "output_type": "execute_result"
    }
   ],
   "source": [
    "df2"
   ]
  },
  {
   "cell_type": "code",
   "execution_count": 91,
   "metadata": {},
   "outputs": [
    {
     "name": "stdout",
     "output_type": "stream",
     "text": [
      "[['Iris-versicolor'], ['Iris-versicolor'], ['Iris-versicolor']]\n"
     ]
    }
   ],
   "source": [
    "list_of_species = list()\n",
    "for i in range(len(df2)):\n",
    "    x=df2['Id'].iloc[i]\n",
    "    x = int(x)\n",
    "    list_of_species.append(df.loc[df['Id']==x]['Species'].tolist())\n",
    "print(list_of_species)   "
   ]
  }
 ],
 "metadata": {
  "kernelspec": {
   "display_name": "Python 3",
   "language": "python",
   "name": "python3"
  },
  "language_info": {
   "codemirror_mode": {
    "name": "ipython",
    "version": 3
   },
   "file_extension": ".py",
   "mimetype": "text/x-python",
   "name": "python",
   "nbconvert_exporter": "python",
   "pygments_lexer": "ipython3",
   "version": "3.6.4"
  }
 },
 "nbformat": 4,
 "nbformat_minor": 2
}
